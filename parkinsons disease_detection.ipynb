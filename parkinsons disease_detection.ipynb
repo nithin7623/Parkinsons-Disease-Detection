{
  "nbformat": 4,
  "nbformat_minor": 0,
  "metadata": {
    "colab": {
      "name": "Untitled3.ipynb",
      "provenance": []
    },
    "kernelspec": {
      "name": "python3",
      "display_name": "Python 3"
    },
    "language_info": {
      "name": "python"
    }
  },
  "cells": [
    {
      "cell_type": "code",
      "execution_count": 30,
      "metadata": {
        "colab": {
          "base_uri": "https://localhost:8080/"
        },
        "id": "3RcmH00D3XmM",
        "outputId": "4953b4bd-5650-4b4f-9a70-7c08d2304fe2"
      },
      "outputs": [
        {
          "output_type": "stream",
          "name": "stdout",
          "text": [
            "[[ 6  2]\n",
            " [ 0 31]]\n",
            "0.9487179487179487\n",
            "              precision    recall  f1-score   support\n",
            "\n",
            "           0       1.00      0.75      0.86         8\n",
            "           1       0.94      1.00      0.97        31\n",
            "\n",
            "    accuracy                           0.95        39\n",
            "   macro avg       0.97      0.88      0.91        39\n",
            "weighted avg       0.95      0.95      0.95        39\n",
            "\n"
          ]
        }
      ],
      "source": [
        "import numpy as np\n",
        "\n",
        "import pandas as pd\n",
        "from sklearn.model_selection import train_test_split\n",
        "from sklearn.svm import SVC\n",
        "from sklearn.metrics import accuracy_score\n",
        "import matplotlib.pyplot as plt\n",
        "from xgboost import XGBClassifier as xgb\n",
        "import xgboost as xg\n",
        "from sklearn.preprocessing import StandardScaler\n",
        "from sklearn.metrics import classification_report, confusion_matrix\n",
        "\n",
        "#with open ('parkinsons_detection\\\\parkinsons.data','r') as Data:\n",
        "#    with open('parkinsons_detection\\\\Parkinsons.csv','w') as PS:\n",
        "#        for line in Data:\n",
        "#            PS.write(line)\n",
        "\n",
        "Final_Data = pd.read_csv('Parkinsons.csv')\n",
        "#print(Final_Data.shape)\n",
        "#F = Final_Data.values.reshape(468,10)\n",
        "#print(F.shape)\n",
        "\n",
        "#print(Final_Data)\n",
        "y = Final_Data.pop('status')\n",
        "junk  = Final_Data.pop('name')\n",
        "x = Final_Data\n",
        "\n",
        "SC = StandardScaler()\n",
        "X= SC.fit_transform(x)\n",
        "\n",
        "#divding data into training and testing data in 0.8 and 0.2 proportion respectively\n",
        "X_train, X_test, Y_train, Y_test = train_test_split(X,y,test_size = 0.2, random_state = 23)\n",
        "\n",
        "# SVC Model\n",
        "\n",
        "clf = SVC()\n",
        "clf.fit(X_train, Y_train)\n",
        "y_pred = clf.predict(X_test)\n",
        "#print(y_pred)\n",
        "YY = [y_pred, Y_test]\n",
        "\n",
        "#The results of the SVC model prediction \n",
        "\n",
        "print(confusion_matrix(Y_test, y_pred))\n",
        "print(accuracy_score(Y_test, y_pred))\n",
        "print(classification_report(Y_test,y_pred))"
      ]
    },
    {
      "cell_type": "code",
      "source": [
        "## XGBoost Model\n",
        "\n",
        "xg_reg = xg.XGBRegressor(objective ='reg:linear', colsample_bytree = 0.3, learning_rate = 0.1,\n",
        "                max_depth = 5, alpha = 10, n_estimators = 10)\n",
        "\n",
        "#training xgBoost model using training data\n",
        "xg_reg.fit(X_train, Y_train)\n",
        "\n",
        "#predicting the output for test data using the trained model\n",
        "y_pred1 = xg_reg.predict(X_test)\n"
      ],
      "metadata": {
        "colab": {
          "base_uri": "https://localhost:8080/"
        },
        "id": "DGjbPVj18Kfm",
        "outputId": "84d8a8ff-b3e0-4df3-8f93-faa78b2f47e5"
      },
      "execution_count": 34,
      "outputs": [
        {
          "output_type": "stream",
          "name": "stdout",
          "text": [
            "[17:53:19] WARNING: /workspace/src/objective/regression_obj.cu:152: reg:linear is now deprecated in favor of reg:squarederror.\n"
          ]
        }
      ]
    },
    {
      "cell_type": "code",
      "source": [
        "#XGBoost predicted the values between 0 and 1\n",
        "#converting predicted values into 0 and 1 using 0.5 as threshold\n",
        "\n",
        "y_pred2=[]\n",
        "for value in y_pred1:\n",
        "  if (value>=0.5):\n",
        "    y_pred2.append(1)\n",
        "  else:\n",
        "    y_pred2.append(0)\n",
        "\n",
        "#y_pred2 contains the rounded predicted values\n",
        "\n",
        "#The results of the XGBoost model prediction\n",
        "\n",
        "print(classification_report(Y_test,y_pred2))\n",
        "print(accuracy_score(Y_test,y_pred2))\n",
        "\n"
      ],
      "metadata": {
        "colab": {
          "base_uri": "https://localhost:8080/"
        },
        "id": "eGHAIVQ8Abcj",
        "outputId": "cbe6097a-712e-4b5a-81bc-c48d53979732"
      },
      "execution_count": 42,
      "outputs": [
        {
          "output_type": "stream",
          "name": "stdout",
          "text": [
            "              precision    recall  f1-score   support\n",
            "\n",
            "           0       0.86      0.75      0.80         8\n",
            "           1       0.94      0.97      0.95        31\n",
            "\n",
            "    accuracy                           0.92        39\n",
            "   macro avg       0.90      0.86      0.88        39\n",
            "weighted avg       0.92      0.92      0.92        39\n",
            "\n",
            "0.9230769230769231\n"
          ]
        }
      ]
    },
    {
      "cell_type": "code",
      "source": [
        "#plotting the y_pred results of both classifiers\n",
        "\n",
        "plt.bar(y_pred, y_pred2, color ='blue',width = 0.2)\n",
        "plt.show()\n"
      ],
      "metadata": {
        "colab": {
          "base_uri": "https://localhost:8080/",
          "height": 265
        },
        "id": "S93vknqX8QT0",
        "outputId": "1fdec745-b3b3-4ace-e923-ef9297bdff1b"
      },
      "execution_count": 41,
      "outputs": [
        {
          "output_type": "display_data",
          "data": {
            "text/plain": [
              "<Figure size 432x288 with 1 Axes>"
            ],
            "image/png": "[encoded data removed]"
          },
          "metadata": {
            "needs_background": "light"
          }
        }
      ]
    }
  ]
}